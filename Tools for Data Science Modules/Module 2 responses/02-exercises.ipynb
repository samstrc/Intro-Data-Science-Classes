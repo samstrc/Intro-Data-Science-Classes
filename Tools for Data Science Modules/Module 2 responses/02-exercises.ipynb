{
 "cells": [
  {
   "cell_type": "markdown",
   "metadata": {},
   "source": [
    "# Tools for Data Science – Module 2 – Exercises"
   ]
  },
  {
   "cell_type": "markdown",
   "metadata": {},
   "source": [
    "## Exercise 1: Data types and operations\n",
    "Play around with data types and operations. Try the following things:\n",
    "\n",
    "1. Define two variables and assign an integer to the first and a float to the second. Define a new variable and assign the sum of the previous two variables. What's the data type of the third variable?\n",
    "2. Reassign a variable with a different data type, e.g., take one of your numerical variables and assign a string to it. What's the new data type?\n",
    "3. See what happens if you try to add a string to a string.\n",
    "4. See what happens if you add a string to a float or an integer."
   ]
  },
  {
   "cell_type": "code",
   "execution_count": 3,
   "metadata": {},
   "outputs": [
    {
     "name": "stdout",
     "output_type": "stream",
     "text": [
      "<class 'float'>\n",
      "The data type of 'first' is now: <class 'str'>. The value of 'first' is: This is a string.\n",
      "The value of 'second_sum' is:  This is a string3.99\n"
     ]
    }
   ],
   "source": [
    "# Q1\n",
    "first = 3\n",
    "second = 3.99\n",
    "sum = first + second # The data type of this variable is a float due to data type hierarchy\n",
    "print(type(sum)) # This verifies that sum is a float \n",
    "\n",
    "# Q2\n",
    "first = \"This is a string\" # Converts first to a string\n",
    "print(\"The data type of 'first' is now: \" + str(type(first)) + f\". The value of 'first' is: {first}.\")\n",
    "\n",
    "# Q3\n",
    "# Adding a string to a string is exactly what I did 2 lines ago. It simply combines strings into one string in the order you add them. \n",
    "\n",
    "#Q4\n",
    "second_sum = first + str(second) # You can't concatenate a float to a string without changing its data type to a string first.\n",
    "print(\"The value of 'second_sum' is: \", second_sum) # Note the lack of a space between \"This is a string\" and \"3.99.\"\n"
   ]
  },
  {
   "cell_type": "markdown",
   "metadata": {},
   "source": [
    "I kinda forgot that you could type your answers outside of your code in jupyter notebooks lol. I will do that from now on in this assignment."
   ]
  },
  {
   "cell_type": "markdown",
   "metadata": {},
   "source": [
    "## Exercise 2: Creating Cells, Executing Code\n",
    "\n",
    "1. Create a new code cell below where you define variables containing your name, your age in years, and your major.\n",
    "2. Create another cell that uses these variables and prints a concatenated string stating your name, major, and your age in years, months, and days (assuming today is your birthday). The output should look like this:\n",
    "\n",
    "```\n",
    "Name: Science Cat, Major: Computer Science, Age: 94 years, or 1128 months, or 34310 days. \n",
    "```\n",
    "3. Create a third cell, make sure it is a \"markdown\" cell, get a picture of some function (you can generate this yourself or get a picture off the web). Put the picture in the same folder as this file. Edit the cell you created to include the require text to load the image, and then below it type the eqution of the curve using TeX."
   ]
  },
  {
   "cell_type": "code",
   "execution_count": 6,
   "metadata": {},
   "outputs": [],
   "source": [
    "name = \"Sam Strickler\"\n",
    "age = 19\n",
    "major = \"Applied Mathematics\""
   ]
  },
  {
   "cell_type": "code",
   "execution_count": 7,
   "metadata": {},
   "outputs": [
    {
     "name": "stdout",
     "output_type": "stream",
     "text": [
      "Name: Sam Strickler, Major: Applied Mathematics, Age: 19 years, or 228 months, or 6935 days.\n"
     ]
    }
   ],
   "source": [
    "months = 19 * 12\n",
    "days = 365 * 19\n",
    "\n",
    "print(\"Name: \" + str(name) + \", Major: \" + str(major) + \", Age: \" + str(age) + f\" years, or {months} months, or {days} days.\")"
   ]
  },
  {
   "cell_type": "markdown",
   "metadata": {},
   "source": [
    "![Sigmoid Function](sigmoid.png)\n",
    "\n",
    "The sigmoid function is defined as:\n",
    "\n",
    "$$ \\sigma(x) = \\frac{1}{1 + e^{-x}} $$\n",
    "\n",
    "It is used in logistic regression and neural networks for output activation. We just learned about it in deep learning!"
   ]
  },
  {
   "cell_type": "markdown",
   "metadata": {},
   "source": [
    "## Exercise 3: Data Types and Operators"
   ]
  },
  {
   "cell_type": "markdown",
   "metadata": {},
   "source": [
    "**Task 3.1:** Try how capitalization affects string comparison, e.g., compare \"datascience\" to \"Datascience\"."
   ]
  },
  {
   "cell_type": "code",
   "execution_count": 11,
   "metadata": {},
   "outputs": [
    {
     "data": {
      "text/plain": [
       "False"
      ]
     },
     "execution_count": 11,
     "metadata": {},
     "output_type": "execute_result"
    }
   ],
   "source": [
    "\"datascience\" == \"Datascience\""
   ]
  },
  {
   "cell_type": "markdown",
   "metadata": {},
   "source": [
    "Here, note that the result is false. This implies that the strings are not exactly the same since D ≠ d."
   ]
  },
  {
   "cell_type": "markdown",
   "metadata": {},
   "source": [
    "**Task 3.2:** Try to compare floats using the `==` operator defined as expressions of integers, e.g., whether 1/3 is equal to 2/6. Does that work? (create a cell below your code cell below, change it to \"markdown\" and enter your answer to this question)"
   ]
  },
  {
   "cell_type": "code",
   "execution_count": 14,
   "metadata": {},
   "outputs": [
    {
     "data": {
      "text/plain": [
       "True"
      ]
     },
     "execution_count": 14,
     "metadata": {},
     "output_type": "execute_result"
    }
   ],
   "source": [
    "1/3 == 2/6"
   ]
  },
  {
   "cell_type": "markdown",
   "metadata": {},
   "source": [
    "This does work, and the operation returns as true. "
   ]
  },
  {
   "cell_type": "markdown",
   "metadata": {},
   "source": [
    "**Task 3.3:** Write an expression that compares the \"floor\" value of a float to an integer, e.g., compare the floor of 1/3 to 0. There are two ways to calculate a floor value: using `int()` and using `math.floor()`. Are they equal? What is the data type of the returned values?"
   ]
  },
  {
   "cell_type": "code",
   "execution_count": 17,
   "metadata": {},
   "outputs": [
    {
     "data": {
      "text/plain": [
       "True"
      ]
     },
     "execution_count": 17,
     "metadata": {},
     "output_type": "execute_result"
    }
   ],
   "source": [
    "int(1/3) == 0"
   ]
  },
  {
   "cell_type": "code",
   "execution_count": 18,
   "metadata": {},
   "outputs": [
    {
     "data": {
      "text/plain": [
       "True"
      ]
     },
     "execution_count": 18,
     "metadata": {},
     "output_type": "execute_result"
    }
   ],
   "source": [
    "import math\n",
    "math.floor(1/3) == 0"
   ]
  },
  {
   "cell_type": "markdown",
   "metadata": {},
   "source": [
    "Both results are equal. The funtion 'int' truncates the decimal part of the float, which is essentially the same thing as using the floor value of some float. "
   ]
  },
  {
   "cell_type": "markdown",
   "metadata": {},
   "source": [
    "## Exercise 4: Functions and If"
   ]
  },
  {
   "cell_type": "markdown",
   "metadata": {},
   "source": [
    "Write a function that takes two integers. If either of the numbers can be divided by the other without a remainder, print the result of the division. If neither of the numbers can divide the other one, print an error message."
   ]
  },
  {
   "cell_type": "code",
   "execution_count": 22,
   "metadata": {},
   "outputs": [
    {
     "name": "stdout",
     "output_type": "stream",
     "text": [
      "2 divided by 2 is 1.0, and 2 divided by 2 is 1.0.\n"
     ]
    }
   ],
   "source": [
    "def function(a, b):\n",
    "    if ((a % b == 0) and (b % a == 0)):\n",
    "        print(f\"{a} divided by {b} is \" + str(a / b) + f\", and {b} divided by {a} is \" + str(b / a) + \".\")\n",
    "    elif (a % b == 0):\n",
    "        print(f\"{a} divided by {b} is \" + str(a / b))\n",
    "    elif (b % a == 0):\n",
    "        print(f\"{b} divided by {a} is \" + str(b / a))\n",
    "    else:\n",
    "        print(\"Error: neither a or b are divisible by each other.\")\n",
    "\n",
    "\n",
    "first = 2\n",
    "second = 2\n",
    "function(first, second)"
   ]
  },
  {
   "cell_type": "markdown",
   "metadata": {},
   "source": [
    "## Exercise 5: Lists\n",
    "\n",
    " * Create a list for the Rolling Stones: Mick, Keith, Charlie, Ronnie.\n",
    " * Create a slice of that list that contains only members of the original lineup (Mick, Keith, Charlie)."
   ]
  },
  {
   "cell_type": "code",
   "execution_count": 24,
   "metadata": {},
   "outputs": [
    {
     "data": {
      "text/plain": [
       "['Mick', 'Keith', 'Charlie']"
      ]
     },
     "execution_count": 24,
     "metadata": {},
     "output_type": "execute_result"
    }
   ],
   "source": [
    "rolling_stones = ['Mick', 'Keith', 'Charlie', 'Ronnie']\n",
    "ogs = rolling_stones[0:3]\n",
    "ogs"
   ]
  },
  {
   "cell_type": "markdown",
   "metadata": {},
   "source": [
    "## Exercise 6.1: While\n",
    "\n",
    "Write a while loop that computes the sum of the 100 first positive integers and print out the result. I.e., calculate\n",
    "\n",
    "$1+2+3+4+5+...+100$ "
   ]
  },
  {
   "cell_type": "code",
   "execution_count": 26,
   "metadata": {},
   "outputs": [
    {
     "data": {
      "text/plain": [
       "5050"
      ]
     },
     "execution_count": 26,
     "metadata": {},
     "output_type": "execute_result"
    }
   ],
   "source": [
    "n = 1\n",
    "total = 0\n",
    "while n <= 100:\n",
    "    total += n\n",
    "    n = n + 1\n",
    "\n",
    "total"
   ]
  },
  {
   "cell_type": "markdown",
   "metadata": {},
   "source": [
    "## Exercise 6.2: For\n",
    "\n",
    "Use a for loop to create an array that contains all even numbers in the range 0-50, i.e., an array: [2, 4, 6, ..., 48, 50]  "
   ]
  },
  {
   "cell_type": "code",
   "execution_count": 28,
   "metadata": {},
   "outputs": [
    {
     "name": "stdout",
     "output_type": "stream",
     "text": [
      "[2, 4, 6, 8, 10, 12, 14, 16, 18, 20, 22, 24, 26, 28, 30, 32, 34, 36, 38, 40, 42, 44, 46, 48, 50]\n"
     ]
    }
   ],
   "source": [
    "list = []\n",
    "for num in range(1, 52):\n",
    "    if num % 2 == 0:\n",
    "        list.append(num)\n",
    "\n",
    "print(list)\n",
    "    "
   ]
  },
  {
   "cell_type": "markdown",
   "metadata": {},
   "source": [
    "## Exercise 7: List Comprehension"
   ]
  },
  {
   "cell_type": "markdown",
   "metadata": {
    "collapsed": true,
    "jupyter": {
     "outputs_hidden": true
    }
   },
   "source": [
    "Write a list comprehension function that creates an array with the length of each word in the following sentence:\n",
    "\n",
    "\"the quick brown fox jumps over the lazy dog\"\n",
    "\n",
    "The result should be a list: \n",
    "\n",
    "```python\n",
    "[3,5,...,3]\n",
    "```"
   ]
  },
  {
   "cell_type": "code",
   "execution_count": 31,
   "metadata": {},
   "outputs": [
    {
     "data": {
      "text/plain": [
       "['the', 'quick', 'brown', 'fox', 'jumps', 'over', 'the', 'lazy', 'dog']"
      ]
     },
     "execution_count": 31,
     "metadata": {},
     "output_type": "execute_result"
    }
   ],
   "source": [
    "# setting up the array\n",
    "sentence = \"the quick brown fox jumps over the lazy dog\"\n",
    "word_list = sentence.split()\n",
    "word_list"
   ]
  },
  {
   "cell_type": "code",
   "execution_count": 32,
   "metadata": {},
   "outputs": [
    {
     "data": {
      "text/plain": [
       "[3, 5, 5, 3, 5, 4, 3, 4, 3]"
      ]
     },
     "execution_count": 32,
     "metadata": {},
     "output_type": "execute_result"
    }
   ],
   "source": [
    "def list_comprehension(string): \n",
    "    word_list = sentence.split()\n",
    "    result_list = []\n",
    "    for i in range(len(word_list)):\n",
    "        result_list.append(len(word_list[i]))\n",
    "    return result_list\n",
    "\n",
    "sentence = \"the quick brown fox jumps over the lazy dog\"\n",
    "list_comprehension(sentence)\n"
   ]
  },
  {
   "cell_type": "markdown",
   "metadata": {},
   "source": [
    "## Submit your work\n",
    "\n",
    "In order to submit any work you do in this course you have to ALWAYS to three things:\n",
    "1. Restart the kernel and run all cells. This is absolutely necessary because sometimes you will have added and deleted code that did not work, and some variables might still be in the kernel. If you used those variables without redefining them, your code will be \"broken\" and will nolonger execute the wway you are expecting (you will get either errors, or incorrect/different answers). If you don't do this and any code in your submitted file does not work, you automatically lose all the points for the assignment as discussd in the grading rubric.\n",
    "2. Put this file and your PICTURE from exercise 2 into a zip file.\n",
    "3. Upload this file in the appropriate place in Brightspace."
   ]
  }
 ],
 "metadata": {
  "anaconda-cloud": {},
  "kernelspec": {
   "display_name": "Python 3 (ipykernel)",
   "language": "python",
   "name": "python3"
  },
  "language_info": {
   "codemirror_mode": {
    "name": "ipython",
    "version": 3
   },
   "file_extension": ".py",
   "mimetype": "text/x-python",
   "name": "python",
   "nbconvert_exporter": "python",
   "pygments_lexer": "ipython3",
   "version": "3.12.4"
  }
 },
 "nbformat": 4,
 "nbformat_minor": 4
}
