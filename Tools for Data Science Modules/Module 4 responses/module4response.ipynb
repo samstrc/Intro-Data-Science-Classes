{
 "cells": [
  {
   "cell_type": "markdown",
   "metadata": {},
   "source": [
    "# Tools for Data Science – Hypothesis Testing exercises\n",
    "\n",
    "In this exercise you will complete an A/B test comparing two ads. "
   ]
  },
  {
   "cell_type": "code",
   "execution_count": 2,
   "metadata": {},
   "outputs": [],
   "source": [
    "# imports and setup \n",
    "import pandas as pd\n",
    "import numpy as np\n",
    "import scipy as sc\n",
    "from scipy.stats import norm\n",
    "\n",
    "import matplotlib.pyplot as plt\n",
    "%matplotlib inline\n",
    "plt.rcParams['figure.figsize'] = (10, 6)\n",
    "plt.style.use('ggplot')"
   ]
  },
  {
   "cell_type": "markdown",
   "metadata": {},
   "source": [
    "## A/B testing\n",
    "\n",
    "First read the WIRED article on A/B testing [here](http://www.wired.com/2012/04/ff_abtesting/).\n",
    "\n",
    "Suppose your company is developing a new logo. The art department develops two logos: ‘Logo A’ and ‘Logo B’, shown below. \n",
    "\n",
    "![](https://media.wired.com/photos/5a9f3fda52430e4b5eb949ab/master/w_1600,c_limit/ff_abtesting_f.jpg)\n",
    "\n",
    "Your job is to figure out which logo is better. \n",
    "\n",
    "\n",
    "You decide to conduct the following experiment. You use Google ads to buy 6000 advertisements. In $N_A=3000$ of the ads (randomly chosen), you use Logo A and in the other $N_B=3000$ ads, you use Logo B. Then you see which logo attracts more clicks.\n",
    "\n",
    "It turns out that $n_A=800$ Logo A viewers click on the ad while $n_B=1000$ Logo B viewers click on the ad. Obviously Logo B did better in this test, but is the difference *significant* enough to say that Logo B is better? Or, perhaps, Logo B just got lucky in this test? \n",
    "\n",
    "The goal of this exercise will be to conduct a two-proportion z-test to determine if Logo B is better. The steps will be similar to those from Module 6 used for the 1954 Salk polio-vaccine experiment."
   ]
  },
  {
   "cell_type": "markdown",
   "metadata": {},
   "source": [
    "### Task 1.  Formulate null hypothesis \n",
    "\n",
    "Let $p_A = n_A/N_A$ be the proportion of clicks on Logo A and similiarly $p_B$ be the proportion of clicks on Logo B. In terms of $p_A$ and $p_B$, clearly state the null and alternative hypothesis. "
   ]
  },
  {
   "cell_type": "markdown",
   "metadata": {},
   "source": [
    "**Your Solution:**\n",
    "\n",
    "The null and alternative hypotheses for this A/B test are:\n",
    "\n",
    "- **Null Hypothesis (\\(H_0\\))**: The click-through rates for Logo A and Logo B are the same.\n",
    "  \n",
    "  \\[ H_0: p_A = p_B \\]\n",
    "\n",
    "- **Alternative Hypothesis (\\(H_A\\))**: The click-through rates for Logo B are higher than Logo A.\n",
    "\n",
    "  \\[ H_A: p_B > p_A \\]\n",
    "\n",
    "This is a one-tailed hypothesis test since we are specifically testing if Logo B performs **better** than Logo A."
   ]
  },
  {
   "cell_type": "markdown",
   "metadata": {},
   "source": [
    "### Task 2.  Find the two-proportion z-value  \n",
    "\n",
    "Assuming the null hypothesis, the test statistic, called the *two-proportion z-value*,\n",
    "$$\n",
    "Z = \\frac{p_A - p_B}{\\sqrt{\\hat{p} \\hat{q} \\left( \\frac{1}{N_A} + \\frac{1}{N_B} \\right)}}.\n",
    "$$\n",
    "is approximately  distributed according to the standard normal distribution. Here $\\hat{p} = \\frac{N_A}{N_A + N_B}p_A + \\frac{N_B}{N_A + N_B}p_B$ and $\\hat{q} = 1-\\hat{p}$. \n",
    "\n",
    "\n",
    "Find the two-proportion z-value."
   ]
  },
  {
   "cell_type": "code",
   "execution_count": 18,
   "metadata": {},
   "outputs": [
    {
     "data": {
      "text/plain": [
       "5.6343616981901095"
      ]
     },
     "execution_count": 18,
     "metadata": {},
     "output_type": "execute_result"
    }
   ],
   "source": [
    "# Sam Strickler, Tools for Data Science, Module 4 assignment \n",
    "\n",
    "\n",
    "from statsmodels.stats.proportion import proportions_ztest\n",
    "\n",
    "N_A = 3000  # 3k ads with Logo A\n",
    "N_B = 3000  # 3k ads with Logo B\n",
    "n_A = 800   # 800 clicks Logo A ads\n",
    "n_B = 1000  # 1k clicks on Logo B ads\n",
    "\n",
    "# Proportions\n",
    "p_A = n_A / N_A\n",
    "p_B = n_B / N_B\n",
    "\n",
    "# Pooled proportion calculation under H0\n",
    "p_hat = (n_A + n_B) / (N_A + N_B)\n",
    "\n",
    "# Standard error computation (breaking this up for simplicity!)\n",
    "SE = np.sqrt(p_hat * (1 - p_hat) * (1 / N_A + 1 / N_B))\n",
    "\n",
    "# Z-value computation\n",
    "z_value = (p_B - p_A) / SE\n",
    "z_value"
   ]
  },
  {
   "cell_type": "markdown",
   "metadata": {},
   "source": [
    "### Task 3. Complete the two proportion z-test \n",
    "\n",
    "Find the $p$-value for the hypothesis test by running a two proportions z-test in python with the proportions_ztest function. "
   ]
  },
  {
   "cell_type": "code",
   "execution_count": 14,
   "metadata": {},
   "outputs": [
    {
     "name": "stdout",
     "output_type": "stream",
     "text": [
      "Z-Statistic: 5.6343616981901095\n",
      "P-Value: 8.785395076012359e-09\n"
     ]
    }
   ],
   "source": [
    "# Prepare data w/ numpy\n",
    "count = np.array([n_B, n_A])  # Number of clicks [B, A]\n",
    "nobs = np.array([N_B, N_A])   # Number of ads shown [B, A]\n",
    "\n",
    "# Perform one-tailed z-test, meaning Logo B > Logo A\n",
    "z_stat, p_value = proportions_ztest(count, nobs, alternative='larger')\n",
    "\n",
    "print(f\"Z-Statistic: {z_stat}\")\n",
    "print(f\"P-Value: {p_value}\")"
   ]
  },
  {
   "cell_type": "markdown",
   "metadata": {},
   "source": [
    "### Task 4. Interpretation\n",
    "\n",
    "Interpret the $p$-value in this example and  state the result of the hypothesis test at the $\\alpha=10\\%$ and $\\alpha=5\\%$ significance levels. \n",
    "\n",
    "If the p-value is small (p < 0.05), there is statistically significant evidence to suggest that Logo B performs better than Logo A. Otherwise, we don't have enough evidence to conclude that Logo B is better. From my output we see that the p-value from this specific problem is VERY small. Thus, we reject the null hypothesis and say that there is enough evidence to say that Logo B performs better than Logo A. "
   ]
  }
 ],
 "metadata": {
  "anaconda-cloud": {},
  "kernelspec": {
   "display_name": "Python 3 (ipykernel)",
   "language": "python",
   "name": "python3"
  },
  "language_info": {
   "codemirror_mode": {
    "name": "ipython",
    "version": 3
   },
   "file_extension": ".py",
   "mimetype": "text/x-python",
   "name": "python",
   "nbconvert_exporter": "python",
   "pygments_lexer": "ipython3",
   "version": "3.12.4"
  }
 },
 "nbformat": 4,
 "nbformat_minor": 4
}
