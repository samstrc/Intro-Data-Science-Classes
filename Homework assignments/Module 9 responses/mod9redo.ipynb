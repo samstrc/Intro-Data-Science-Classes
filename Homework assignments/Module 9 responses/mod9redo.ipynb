{
 "cells": [
  {
   "cell_type": "markdown",
   "metadata": {},
   "source": [
    "# Tools for Data Science – Modules on Classification – Exercises\n",
    "\n",
    "In this exercise you will use classification methods to classify handwritten digits."
   ]
  },
  {
   "cell_type": "code",
   "execution_count": 3,
   "metadata": {},
   "outputs": [],
   "source": [
    "# imports and setup \n",
    "\n",
    "import pandas as pd\n",
    "import numpy as np\n",
    "\n",
    "from sklearn import tree, svm, metrics\n",
    "from sklearn.neighbors import KNeighborsClassifier\n",
    "from sklearn.model_selection import train_test_split, cross_val_score\n",
    "from sklearn.datasets import load_digits\n",
    "from sklearn.preprocessing import scale\n",
    "\n",
    "import matplotlib.pyplot as plt\n",
    "%matplotlib inline\n",
    "plt.rcParams['figure.figsize'] = (10, 6)\n",
    "plt.style.use('ggplot')"
   ]
  },
  {
   "cell_type": "markdown",
   "metadata": {},
   "source": [
    "## 1.  Conceptual Questions\n",
    "\n",
    "## Task 1.1\n",
    "\n",
    "Provide a detailed explanation of the algorithm used to fit a decision tree."
   ]
  },
  {
   "cell_type": "markdown",
   "metadata": {},
   "source": [
    "**Your answer goes here** : A decision tree model classifies data by repeatedly splitting a given dataset into smaller ones based on feature values to make groups that are as pure as possible. This means the data points in each group mostly belong to the same class. The algorithm starts with the entire dataset at the root and looks at all available features to find the best question to ask (an example would be like: “Is age > 30?”). For each possible feature and threshold, it calculates how good the split would be using a measure of impurity such as Gini impurity or entropy. The goal is to pick the split that reduces impurity the most, in other words, the one that most effectively separates the data by class. Once the best split is chosen, the data is divided into two branches: one where the condition is true, and one where it is false. This process repeats for each new group of data, growing the tree deeper, until stopping conditions are met. Stopping conditions might be the maximum depth being reached, the node becoming pure (only one class left), or there not being enough samples to partition further. In the end, each path through the tree leads to a leaf node, which represents the predicted class for any data point that follows that path during prediction."
   ]
  },
  {
   "cell_type": "markdown",
   "metadata": {},
   "source": [
    "## Task 1.2\n",
    "\n",
    "In this question we will explore a maximal margin classifier (think SVM) using a toy data set.\n",
    "\n",
    "We are given $n = 7$ observations in $p = 2$ dimensions. For each observation, there is an associated class label.\n",
    "\n",
    "![](Table.png)\n"
   ]
  },
  {
   "cell_type": "markdown",
   "metadata": {},
   "source": [
    "(a) Sketch the observations.\n",
    "\n",
    "(b) Sketch the optimal separating hyperplane, and provide the equation for this hyperplane. \n",
    "\n",
    "(c) On your sketch, indicate the margin for the maximal margin hyperplane, and indicate the support vectors for the maximal margin classifier.\n",
    "\n",
    "(d) Sketch a hyperplane that is not the optimal separating hyperplane, and provide the equation for this hyperplane (make sure to label this as not being the optimal one).\n",
    "\n",
    "(e) Draw an additional observation on the plot (use a different color and label your new point in some way) so that the two classes are no longer separable by a hyperplane.\n",
    "\n",
    "Now take a picture or your sketch, save it as a png file in the same folder as this document, and then edit the cell below to show the picture."
   ]
  },
  {
   "cell_type": "markdown",
   "metadata": {},
   "source": [
    "**Your picture goes here** : ![Sam Strickler](mod9.png)"
   ]
  },
  {
   "cell_type": "markdown",
   "metadata": {},
   "source": [
    "(f) Describe the classification rule for the maximal margin classifier. It should be something along the lines of “Classify to Red if $\\beta_0 + \\beta_1 X_1 + \\beta_2 X_2 > 0$, and classify to Blue otherwise.” Provide the values for $\\beta_0$, $\\beta_1$, and $\\beta_2$."
   ]
  },
  {
   "cell_type": "markdown",
   "metadata": {},
   "source": [
    "**Your answer goes here** : The classification rule for the maximal margin classifier is to assign a point to the Red class if $\\beta_0$ + $\\beta_1$ $X_1$ + $\\beta_2$ $X_2$ > 0, and to the Blue class otherwise. The rule defines a linear boundary that maximizes the distance between the two classes. The values of $\\beta_0$, $\\beta_1$, and $\\beta_2$ all depend on the specific location of the support vectors in the training data and are calculated by solving an optimization problem that maximizes the margin while correctly separating the classes."
   ]
  },
  {
   "cell_type": "markdown",
   "metadata": {},
   "source": [
    "## 2. Applied Questions - The MNIST handwritten digits\n",
    "\n",
    "The MNIST handwritten digit dataset consists of images of handwritten digits, together with labels indicating which digit is in each image. You will see that images are just matrices with scalar values, and that we can apply the classification algorithms we studied to them.\n",
    "\n",
    "Because both the features and the labels are present in this dataset (and labels for large datasets are generally difficult/expensive to obtain), this dataset is frequently used as a benchmark to compare various classification methods.  \n",
    "\n",
    "In this problem, we'll use scikit-learn to compare classification methods on the MNIST dataset. \n",
    "\n",
    "There are several versions of the MNIST dataset. We'll use the one that is built-into scikit-learn, described [here](http://scikit-learn.org/stable/modules/generated/sklearn.datasets.load_digits.html). \n",
    "\n",
    "1) Classes: 10 (one for each digit)\n",
    "2) Samples total: 1797\n",
    "3) Samples per class: $\\approx$ 180\n",
    "4) Dimensionality: 64 (8 pixels by 8 pixels)\n",
    "5) Features: integers 0-16 (grayscale value; 0 is white, 16 is black)\n",
    "\n",
    "Here are some examples of the images. Note that the digits have been size-normalized and centered in a fixed-size ($8\\times8$ pixels) image.\n",
    "\n",
    "<img src=\"http://scikit-learn.org/stable/_images/sphx_glr_plot_digits_classification_001.png\" width=\"500\">"
   ]
  },
  {
   "cell_type": "markdown",
   "metadata": {},
   "source": [
    "Note that we will scale the data before running them through our algorithms. You can read details about scaling and why it's important [here](http://scikit-learn.org/stable/modules/preprocessing.html#standardization-or-mean-removal-and-variance-scaling)."
   ]
  },
  {
   "cell_type": "code",
   "execution_count": 4,
   "metadata": {},
   "outputs": [
    {
     "name": "stdout",
     "output_type": "stream",
     "text": [
      "<class 'numpy.ndarray'>\n",
      "n_digits: 10, n_samples 1797, n_features 64\n"
     ]
    }
   ],
   "source": [
    "digits = load_digits()\n",
    "#X = digits.data\n",
    "X = scale(digits.data)\n",
    "y = digits.target\n",
    "print(type(X))\n",
    "\n",
    "n_samples, n_features = X.shape\n",
    "n_digits = len(np.unique(digits.target))\n",
    "print(\"n_digits: %d, n_samples %d, n_features %d\" % (n_digits, n_samples, n_features))\n"
   ]
  },
  {
   "cell_type": "code",
   "execution_count": 5,
   "metadata": {},
   "outputs": [
    {
     "name": "stdout",
     "output_type": "stream",
     "text": [
      "===\n",
      "The digit\n",
      "0\n",
      "===\n",
      "The raw data\n",
      "[[ 0.  0.  5. 13.  9.  1.  0.  0.]\n",
      " [ 0.  0. 13. 15. 10. 15.  5.  0.]\n",
      " [ 0.  3. 15.  2.  0. 11.  8.  0.]\n",
      " [ 0.  4. 12.  0.  0.  8.  8.  0.]\n",
      " [ 0.  5.  8.  0.  0.  9.  8.  0.]\n",
      " [ 0.  4. 11.  0.  1. 12.  7.  0.]\n",
      " [ 0.  2. 14.  5. 10. 12.  0.  0.]\n",
      " [ 0.  0.  6. 13. 10.  0.  0.  0.]]\n",
      "===\n",
      "The scaled data\n",
      "[ 0.         -0.33501649 -0.04308102  0.27407152 -0.66447751 -0.84412939\n",
      " -0.40972392 -0.12502292 -0.05907756 -0.62400926  0.4829745   0.75962245\n",
      " -0.05842586  1.12772113  0.87958306 -0.13043338 -0.04462507  0.11144272\n",
      "  0.89588044 -0.86066632 -1.14964846  0.51547187  1.90596347 -0.11422184\n",
      " -0.03337973  0.48648928  0.46988512 -1.49990136 -1.61406277  0.07639777\n",
      "  1.54181413 -0.04723238  0.          0.76465553  0.05263019 -1.44763006\n",
      " -1.73666443  0.04361588  1.43955804  0.         -0.06134367  0.8105536\n",
      "  0.63011714 -1.12245711 -1.06623158  0.66096475  0.81845076 -0.08874162\n",
      " -0.03543326  0.74211893  1.15065212 -0.86867056  0.11012973  0.53761116\n",
      " -0.75743581 -0.20978513 -0.02359646 -0.29908135  0.08671869  0.20829258\n",
      " -0.36677122 -1.14664746 -0.5056698  -0.19600752]\n"
     ]
    }
   ],
   "source": [
    "# this is what one digit (a zero) looks like\n",
    "\n",
    "print(\"===\\nThe digit\")\n",
    "print(digits.target[0])\n",
    "\n",
    "print(\"===\\nThe raw data\")\n",
    "print(digits.images[0])\n",
    "\n",
    "print(\"===\\nThe scaled data\")\n",
    "print(X[0])"
   ]
  },
  {
   "cell_type": "code",
   "execution_count": 6,
   "metadata": {},
   "outputs": [
    {
     "data": {
      "image/png": "[encoded data removed]",
      "text/plain": [
       "<Figure size 1000x1000 with 25 Axes>"
      ]
     },
     "metadata": {},
     "output_type": "display_data"
    }
   ],
   "source": [
    "# plot a few of the images\n",
    "\n",
    "plt.figure(figsize= (10, 10))    \n",
    "for ii in np.arange(25):\n",
    "    plt.subplot(5, 5, ii+1)\n",
    "    plt.imshow(np.reshape(digits.images[ii,:],(8,8)), cmap='Greys',interpolation='nearest')\n",
    "    plt.axis('off')\n",
    "plt.show()\n"
   ]
  },
  {
   "cell_type": "markdown",
   "metadata": {},
   "source": [
    "You might find [this webpage](https://scikit-learn.org/stable/auto_examples/classification/plot_digits_classification.html#sphx-glr-auto-examples-classification-plot-digits-classification-py) to be generally helpful for this exercise. "
   ]
  },
  {
   "cell_type": "markdown",
   "metadata": {},
   "source": [
    "### Task 2.1: Classification with Support Vector Machines (SVM)\n",
    "\n",
    "1. Split the data into a training and test set using the command \n",
    "```\n",
    "train_test_split(X, y, random_state=1, test_size=0.8)\n",
    "```\n",
    "    1. Use SVM with an `rbf` kernel and parameter `C=100` to build a classifier using the *training dataset*.\n",
    "    2. Using the *test dataset*, evaluate the accuracy of the model. Again using the *test dataset*, compute the confusion matrix. What is the most common mistake that the classifier makes? **Note: this corresponds to the largest off-diagonal entry of the confusion matrix.**\n",
    "    3. Try a couple of other C values and comment on how the results change"
   ]
  },
  {
   "cell_type": "code",
   "execution_count": 7,
   "metadata": {},
   "outputs": [
    {
     "name": "stdout",
     "output_type": "stream",
     "text": [
      "Accuracy with C=100: 0.9534075104311543\n",
      "Confusion Matrix with C=100:\n",
      "[[130   0   0   0   0   0   0   0   0   0]\n",
      " [  0 140   4   0   0   0   0   1   4   0]\n",
      " [  0   1 134   0   0   0   0   2   5   0]\n",
      " [  0   0   3 136   0   0   0   3   4   1]\n",
      " [  0   0   0   0 139   0   0  13   0   0]\n",
      " [  0   0   0   0   0 141   1   0   1   4]\n",
      " [  0   1   0   0   0   0 144   0   1   0]\n",
      " [  0   0   0   0   0   0   0 139   0   1]\n",
      " [  0   3   1   1   0   0   0   1 127   0]\n",
      " [  0   2   0   2   0   2   1   2   2 141]]\n",
      "Most common mistake (largest off-diagonal entry): 13\n",
      "\n",
      "For C = 1:\n",
      "Accuracy: 0.9401947148817803\n",
      "Confusion Matrix:\n",
      " [[130   0   0   0   0   0   0   0   0   0]\n",
      " [  0 139   7   0   0   0   0   1   2   0]\n",
      " [  0   1 130   0   0   0   0   3   8   0]\n",
      " [  0   0   2 130   0   1   0   6   7   1]\n",
      " [  0   0   0   0 138   0   0  14   0   0]\n",
      " [  0   0   0   0   0 142   1   0   1   3]\n",
      " [  0   4   0   0   0   0 141   0   1   0]\n",
      " [  0   0   0   0   0   0   0 140   0   0]\n",
      " [  0   3   0   1   0   0   0   2 127   0]\n",
      " [  0   2   0   2   0   2   1   7   3 135]]\n",
      "Most common mistake (largest off-diagonal entry): 14\n",
      "\n",
      "For C = 10:\n",
      "Accuracy: 0.9534075104311543\n",
      "Confusion Matrix:\n",
      " [[130   0   0   0   0   0   0   0   0   0]\n",
      " [  0 140   4   0   0   0   0   1   4   0]\n",
      " [  0   1 134   0   0   0   0   2   5   0]\n",
      " [  0   0   3 136   0   0   0   3   4   1]\n",
      " [  0   0   0   0 139   0   0  13   0   0]\n",
      " [  0   0   0   0   0 141   1   0   1   4]\n",
      " [  0   1   0   0   0   0 144   0   1   0]\n",
      " [  0   0   0   0   0   0   0 139   0   1]\n",
      " [  0   3   1   1   0   0   0   1 127   0]\n",
      " [  0   2   0   2   0   2   1   2   2 141]]\n",
      "Most common mistake (largest off-diagonal entry): 13\n",
      "\n",
      "For C = 1000:\n",
      "Accuracy: 0.9534075104311543\n",
      "Confusion Matrix:\n",
      " [[130   0   0   0   0   0   0   0   0   0]\n",
      " [  0 140   4   0   0   0   0   1   4   0]\n",
      " [  0   1 134   0   0   0   0   2   5   0]\n",
      " [  0   0   3 136   0   0   0   3   4   1]\n",
      " [  0   0   0   0 139   0   0  13   0   0]\n",
      " [  0   0   0   0   0 141   1   0   1   4]\n",
      " [  0   1   0   0   0   0 144   0   1   0]\n",
      " [  0   0   0   0   0   0   0 139   0   1]\n",
      " [  0   3   1   1   0   0   0   1 127   0]\n",
      " [  0   2   0   2   0   2   1   2   2 141]]\n",
      "Most common mistake (largest off-diagonal entry): 13\n"
     ]
    }
   ],
   "source": [
    "# Load the full digits dataset and scale the data\n",
    "digits = load_digits()\n",
    "X = scale(digits.data)\n",
    "y = digits.target\n",
    "\n",
    "# Split the data (20% training, 80% testing)\n",
    "X_train, X_test, y_train, y_test = train_test_split(X, y, random_state=1, test_size=0.8)\n",
    "\n",
    "# Train an SVM with RBF kernel and C=100 on the training set\n",
    "model = svm.SVC(kernel='rbf', C=100)\n",
    "model.fit(X_train, y_train)\n",
    "\n",
    "# Evaluate the accuracy on the test set\n",
    "y_pred = model.predict(X_test)\n",
    "accuracy = metrics.accuracy_score(y_test, y_pred)\n",
    "print(\"Accuracy with C=100:\", accuracy)\n",
    "\n",
    "# Compute the confusion matrix on the test set\n",
    "cm = metrics.confusion_matrix(y_test, y_pred)\n",
    "print(\"Confusion Matrix with C=100:\")\n",
    "print(cm)\n",
    "\n",
    "# Identify the largest off-diagonal entry (most common mistake)\n",
    "cm_no_diag = cm.copy()\n",
    "np.fill_diagonal(cm_no_diag, 0)\n",
    "most_common_error = np.max(cm_no_diag)\n",
    "print(\"Most common mistake (largest off-diagonal entry):\", most_common_error)\n",
    "\n",
    "# Try a couple of other C values and observe changes\n",
    "for C_val in [1, 10, 1000]:\n",
    "    model = svm.SVC(kernel='rbf', C=C_val)\n",
    "    model.fit(X_train, y_train)\n",
    "    y_pred = model.predict(X_test)\n",
    "    acc = metrics.accuracy_score(y_test, y_pred)\n",
    "    cm = metrics.confusion_matrix(y_test, y_pred)\n",
    "    \n",
    "    cm_no_diag = cm.copy()\n",
    "    np.fill_diagonal(cm_no_diag, 0)\n",
    "    common_error = np.max(cm_no_diag)\n",
    "    \n",
    "    print(f\"\\nFor C = {C_val}:\")\n",
    "    print(\"Accuracy:\", acc)\n",
    "    print(\"Confusion Matrix:\\n\", cm)\n",
    "    print(\"Most common mistake (largest off-diagonal entry):\", common_error)"
   ]
  },
  {
   "cell_type": "markdown",
   "metadata": {},
   "source": [
    "**Your Interpretation**: When using an RBF kernel, setting C to 10, 100, or 1000 gives similar accuracy (around 95.3%) with the most common misclassification being 13 instances, while a lower C value of 1 slightly reduces accuracy to about 94.0% and increases the most common error to 14. This indicates that a moderate to high C value yields stable, optimal performance, whereas a very low C leads to a wider margin that underfits the data."
   ]
  },
  {
   "cell_type": "markdown",
   "metadata": {},
   "source": [
    "### Tasks 2.2 and 2.3: Prediction with k-nearest neighbors\n",
    "`Repeat` Task 2.1 using k-nearest neighbors (k-NN). In Task 2.2, use k=10. In Task 2.3, try two other k values. How do your results for SVM and k-nearest neighbors compare?"
   ]
  },
  {
   "cell_type": "code",
   "execution_count": 8,
   "metadata": {},
   "outputs": [
    {
     "name": "stdout",
     "output_type": "stream",
     "text": [
      "k-NN (k=10)\n",
      "Accuracy: 0.9123783031988874\n",
      "Confusion Matrix:\n",
      "[[130   0   0   0   0   0   0   0   0   0]\n",
      " [  0 137  11   0   0   0   0   0   1   0]\n",
      " [  2   4 123   2   0   0   0   2   9   0]\n",
      " [  1   0   1 133   0   1   0   6   4   1]\n",
      " [  0   0   0   0 147   0   0   4   1   0]\n",
      " [  1   1   0   2   1 136   1   0   0   5]\n",
      " [  0   2   0   0   0   0 143   0   1   0]\n",
      " [  0   0   0   0   0   0   0 139   1   0]\n",
      " [  0   9   1   6   0   0   0   1 115   1]\n",
      " [  5  10   0   5   1   3   2   9   8 109]]\n",
      "Most common mistake: 11\n",
      "\n",
      "k-NN (k=5):\n",
      "Accuracy: 0.9304589707927677\n",
      "Confusion Matrix:\n",
      "[[130   0   0   0   0   0   0   0   0   0]\n",
      " [  0 141   6   0   0   2   0   0   0   0]\n",
      " [  1   3 128   0   1   0   0   1   7   1]\n",
      " [  1   0   1 135   0   1   0   5   2   2]\n",
      " [  0   0   0   0 146   0   0   5   1   0]\n",
      " [  1   1   0   3   1 138   1   0   0   2]\n",
      " [  0   2   0   0   0   0 143   0   1   0]\n",
      " [  0   0   0   0   0   0   0 139   0   1]\n",
      " [  0   7   1   5   0   1   0   1 116   2]\n",
      " [  1   3   1   7   2   5   1   5   5 122]]\n",
      "Most common mistake: 7\n",
      "\n",
      "k-NN (k=15):\n",
      "Accuracy: 0.8977746870653686\n",
      "Confusion Matrix:\n",
      "[[130   0   0   0   0   0   0   0   0   0]\n",
      " [  0 131  17   0   0   0   0   0   1   0]\n",
      " [  3   3 118   2   0   0   0   2  14   0]\n",
      " [  1   0   1 131   0   1   0   5   5   3]\n",
      " [  1   0   0   0 145   0   0   5   1   0]\n",
      " [  1   1   0   4   1 134   1   0   1   4]\n",
      " [  0   1   0   0   0   0 144   0   1   0]\n",
      " [  0   0   1   0   0   0   0 139   0   0]\n",
      " [  1  10   1   5   0   0   1   1 113   1]\n",
      " [  5  10   0   9   0   2   0  11   9 106]]\n",
      "Most common mistake: 17\n"
     ]
    }
   ],
   "source": [
    "# Load and scale the digits dataset\n",
    "digits = load_digits()\n",
    "X = scale(digits.data)\n",
    "y = digits.target\n",
    "\n",
    "# Split the data (20% training, 80% testing)\n",
    "X_train, X_test, y_train, y_test = train_test_split(X, y, random_state=1, test_size=0.8)\n",
    "\n",
    "# Task 2.2: k-NN with k=10\n",
    "knn10 = KNeighborsClassifier(n_neighbors=10)\n",
    "knn10.fit(X_train, y_train)\n",
    "y_pred10 = knn10.predict(X_test)\n",
    "accuracy10 = metrics.accuracy_score(y_test, y_pred10)\n",
    "cm10 = metrics.confusion_matrix(y_test, y_pred10)\n",
    "cm_no_diag10 = cm10.copy()\n",
    "np.fill_diagonal(cm_no_diag10, 0)\n",
    "common_error10 = np.max(cm_no_diag10)\n",
    "print(\"k-NN (k=10)\")\n",
    "print(\"Accuracy:\", accuracy10)\n",
    "print(\"Confusion Matrix:\")\n",
    "print(cm10)\n",
    "print(\"Most common mistake:\", common_error10)\n",
    "\n",
    "# Task 2.3: Try k=5 and k=15\n",
    "for k_val in [5, 15]:\n",
    "    knn = KNeighborsClassifier(n_neighbors=k_val)\n",
    "    knn.fit(X_train, y_train)\n",
    "    y_pred = knn.predict(X_test)\n",
    "    acc = metrics.accuracy_score(y_test, y_pred)\n",
    "    cm = metrics.confusion_matrix(y_test, y_pred)\n",
    "    cm_no_diag = cm.copy()\n",
    "    np.fill_diagonal(cm_no_diag, 0)\n",
    "    common_error = np.max(cm_no_diag)\n",
    "    \n",
    "    print(f\"\\nk-NN (k={k_val}):\")\n",
    "    print(\"Accuracy:\", acc)\n",
    "    print(\"Confusion Matrix:\")\n",
    "    print(cm)\n",
    "    print(\"Most common mistake:\", common_error)"
   ]
  },
  {
   "cell_type": "markdown",
   "metadata": {},
   "source": [
    "**Your Interpretation**: For k-NN, the results show that with k=10 the accuracy is about 91.2% and the largest misclassification error is 11, whereas with k=5 the accuracy improves to about 93.0% but the most common mistake increases to 17. Compared to SVM, which achieved roughly 95.3% accuracy with a most common error of 13, k-NN appears slightly less accurate and more sensitive to the choice of k. This suggests that while tuning k can improve k-NN’s overall accuracy, its error distribution can vary more than SVM’s more stable performance on this dataset."
   ]
  }
 ],
 "metadata": {
  "anaconda-cloud": {},
  "kernelspec": {
   "display_name": "base",
   "language": "python",
   "name": "python3"
  },
  "language_info": {
   "codemirror_mode": {
    "name": "ipython",
    "version": 3
   },
   "file_extension": ".py",
   "mimetype": "text/x-python",
   "name": "python",
   "nbconvert_exporter": "python",
   "pygments_lexer": "ipython3",
   "version": "3.12.4"
  }
 },
 "nbformat": 4,
 "nbformat_minor": 4
}
